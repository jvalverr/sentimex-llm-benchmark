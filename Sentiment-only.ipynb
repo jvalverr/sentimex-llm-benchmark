{
 "cells": [
  {
   "cell_type": "markdown",
   "id": "60bde3ec",
   "metadata": {},
   "source": [
    "# 📘 Sentiment-only Pipeline — Pre-trained Models + LLMs (Predictions Only)\n",
    "\n",
    "This Colab notebook is **dedicated exclusively to sentiment prediction merging and normalization**.\n",
    "It does **not include any analysis, metrics, or visualization**.\n",
    "All comments are written in English.\n"
   ]
  },
  {
   "cell_type": "markdown",
   "id": "d023c5d0",
   "metadata": {},
   "source": [
    "## 🧩 1. Setup and Imports"
   ]
  },
  {
   "cell_type": "code",
   "execution_count": null,
   "id": "7d569761",
   "metadata": {},
   "outputs": [],
   "source": [
    "import os\n",
    "import re\n",
    "import numpy as np\n",
    "import pandas as pd\n",
    "from pathlib import Path\n",
    "\n",
    "# Optional: Mount Google Drive in Colab\n",
    "tRY_COLAB = False\n",
    "try:\n",
    "    import google.colab # type: ignore\n",
    "    tRY_COLAB = True\n",
    "except Exception:\n",
    "    tRY_COLAB = False\n",
    "\n",
    "if tRY_COLAB:\n",
    "from google.colab import drive # type: ignore\n",
    "drive.mount('/drive', force_remount=False)\n",
    "\n",
    "# Define main paths\n",
    "PATH_ROOT = Path('/drive/My Drive/Colab Notebooks/infotracer/RESEARCH/') if tRY_COLAB else Path.cwd()\n",
    "PATH_RESULTS = PATH_ROOT / 'results'\n",
    "PATH_RESULTS.mkdir(parents=True, exist_ok=True)\n",
    "\n",
    "# File references\n",
    "F_GT = PATH_RESULTS / 'omd_sent_groundtruth_mex24.csv' # optional ground-truth\n",
    "F_DL = PATH_RESULTS / 'omd_sent_PreTrained_pred_mex24.csv' # pre-trained models\n",
    "F_LLMS = PATH_RESULTS / 'omd_sent_LLM_pred_mex24.csv' # LLMs predictions\n",
    "\n",
    "# Output files\n",
    "F_OUT_CSV = PATH_RESULTS / 'sentiment_predictions_merged.csv'\n",
    "F_OUT_XLSX = PATH_RESULTS / 'sentiment_predictions_merged.xlsx'"
   ]
  },
  {
   "cell_type": "markdown",
   "id": "39f48a29",
   "metadata": {},
   "source": [
    "## 📂 2. Load Datasets (Ground Truth Optional)"
   ]
  },
  {
   "cell_type": "code",
   "execution_count": null,
   "id": "33df4208",
   "metadata": {},
   "outputs": [],
   "source": [
    "if F_GT.exists():\n",
    "    df_gt = pd.read_csv(F_GT)\n",
    "    required_unified = {'platform', 'text', 'sentiment_label'}\n",
    "    if not required_unified.issubset(df_gt.columns):\n",
    "        raise ValueError(f\"Ground-truth file missing columns: {required_unified - set(df_gt.columns)}\")\n",
    "else:\n",
    "    df_gt = pd.DataFrame(columns=['platform', 'text', 'sentiment_label'])\n",
    "\n",
    "# Pre-trained (DL) models\n",
    "if not F_DL.exists():\n",
    "    raise FileNotFoundError(f\"Missing file: {F_DL}\")\n",
    "df_dl_raw = pd.read_csv(F_DL)\n",
    "\n",
    "# LLMs models\n",
    "if not F_LLMS.exists():\n",
    "    raise FileNotFoundError(f\"Missing file: {F_LLMS}\")\n",
    "df_llm_raw = pd.read_csv(F_LLMS)"
   ]
  },
  {
   "cell_type": "markdown",
   "id": "95b4672e",
   "metadata": {},
   "source": [
    "## 🧠 3. Label Normalization (Sentiment Only)\n"
   ]
  },
  {
   "cell_type": "code",
   "execution_count": null,
   "id": "5e91319d",
   "metadata": {},
   "outputs": [],
   "source": [
    "VALID = {\"NEG\", \"POS\", \"NEU\"}\n",
    "label_map_numeric = {0: \"NEG\", 1: \"POS\", 2: \"NEU\"}\n",
    "\n",
    "label_map_textual = {\n",
    "'negative': 'NEG', 'neg': 'NEG', 'positive': 'POS', 'pos': 'POS', 'neutral': 'NEU', 'neu': 'NEU',\n",
    "'negativo': 'NEG', 'positivo': 'POS', 'neutro': 'NEU', 'neutralidad': 'NEU',\n",
    "'cannot_predict': 'INDETERMINATE', 'indeterminate': 'INDETERMINATE', 'nan': 'INDETERMINATE'\n",
    "}\n",
    "\n",
    "def normalize_series_to_labels(s: pd.Series) -> pd.Series:\n",
    "    s_str = s.astype(str).str.strip()\n",
    "    mapped = s.map(label_map_numeric)\n",
    "    mapped = mapped.fillna(s_str.str.lower().map(label_map_textual))\n",
    "    mapped = mapped.where(mapped.isin(VALID), 'INDETERMINATE')\n",
    "    return mapped"
   ]
  },
  {
   "cell_type": "markdown",
   "id": "c335483e",
   "metadata": {},
   "source": [
    "## 🧮 4. Select and Normalize Model Columns"
   ]
  },
  {
   "cell_type": "code",
   "execution_count": null,
   "id": "81b62230",
   "metadata": {},
   "outputs": [],
   "source": [
    "# DL models\n",
    "DL_COLS = [c for c in ['sentiment_bert_multilingual', 'sentiment_beto', 'sentiment_pysentimiento', 'sentiment_roberta'] if c in df_dl_raw.columns]\n",
    "# LLM models\n",
    "LLM_COLS = [c for c in [\n",
    "'zero_gpt-3.5-turbo_sentiment', 'zero_gpt-4o-mini_sentiment', 'zero_gpt_o1-mini_sentiment',\n",
    "'few_gpt-3.5-turbo_sentiment', 'few_gpt-4o-mini_sentiment', 'few_gpt_o1-mini_sentiment'\n",
    "] if c in df_llm_raw.columns]\n",
    "\n",
    "if not DL_COLS and not LLM_COLS:\n",
    "    raise ValueError('No prediction columns found.')\n",
    "\n",
    "# Normalize DL predictions\n",
    "df_dl = df_dl_raw[['text'] + DL_COLS].copy()\n",
    "for col in DL_COLS:\n",
    "    df_dl[col] = normalize_series_to_labels(df_dl[col])\n",
    "\n",
    "# Normalize LLM predictions\n",
    "df_llm = df_llm_raw[['text'] + LLM_COLS].copy()\n",
    "for col in LLM_COLS:\n",
    "    df_llm[col] = normalize_series_to_labels(df_llm[col])"
   ]
  },
  {
   "cell_type": "markdown",
   "id": "9adb2b6f",
   "metadata": {},
   "source": [
    "## 🔗 5. Merge All Predictions into One Table\n"
   ]
  },
  {
   "cell_type": "code",
   "execution_count": null,
   "id": "bfbba61b",
   "metadata": {},
   "outputs": [],
   "source": [
    "# Merge ground-truth (if available), DL, and LLMs\n",
    "if not df_gt.empty:\n",
    "    base = df_gt[['platform', 'text', 'sentiment_label']]\n",
    "else:\n",
    "    base = pd.DataFrame({'text': pd.unique(pd.concat([df_dl['text'], df_llm['text']], ignore_index=True))})\n",
    "\n",
    "merged = base.merge(df_dl, on='text', how='left').merge(df_llm, on='text', how='left')\n",
    "\n",
    "print(f\"Merged table shape: {merged.shape}\")\n",
    "print(f\"Columns: {list(merged.columns)}\")"
   ]
  },
  {
   "cell_type": "markdown",
   "id": "2cbf313c",
   "metadata": {},
   "source": [
    "## 💾 6. Export Final Predictions\n"
   ]
  },
  {
   "cell_type": "code",
   "execution_count": null,
   "id": "971f42cf",
   "metadata": {},
   "outputs": [],
   "source": [
    "merged.to_csv(F_OUT_CSV, index=False, encoding='utf-8')\n",
    "try:\n",
    "    merged.to_excel(F_OUT_XLSX, index=False)\n",
    "except Exception as e:\n",
    "    print(f\"[warn] Excel export skipped: {e}\")\n",
    "\n",
    "print(f\"\\n[export] CSV: {F_OUT_CSV}\")\n",
    "print(f\"[export] Excel: {F_OUT_XLSX if F_OUT_XLSX.exists() else '(skipped)'}\")"
   ]
  },
  {
   "cell_type": "markdown",
   "id": "84c288f2",
   "metadata": {},
   "source": []
  }
 ],
 "metadata": {
  "kernelspec": {
   "display_name": "Python 3",
   "language": "python",
   "name": "python3"
  },
  "language_info": {
   "name": "python",
   "version": "3.11.6"
  }
 },
 "nbformat": 4,
 "nbformat_minor": 5
}
